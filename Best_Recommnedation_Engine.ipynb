{
 "cells": [
  {
   "cell_type": "markdown",
   "metadata": {},
   "source": [
    "# Best Recommendation Algorithm"
   ]
  },
  {
   "cell_type": "markdown",
   "metadata": {},
   "source": [
    "## Objective\n",
    "The dataset includes test of different recommendation algorithms and the scroll list recommended by each algorithm on the lead articles. The objective was to find the best recommendation algorithm based on their recommendations of the articles on any lead article."
   ]
  },
  {
   "cell_type": "markdown",
   "metadata": {},
   "source": [
    "## Summary\n",
    "Though algorithm C has recommended the articles most number of times in the provided dataset but users doesn't often click on the first article recommended by it. Hence, the weighted average scroll depth of algorithm C is less than that of A and B.\n",
    "In this case, algorithm A perfoms better on an average than the other two recommendation algorithms."
   ]
  },
  {
   "cell_type": "code",
   "execution_count": 2,
   "metadata": {
    "collapsed": true
   },
   "outputs": [],
   "source": [
    "# Import all the libraries\n",
    "\n",
    "import numpy as np\n",
    "import pandas as pd\n",
    "import matplotlib.pyplot as plt\n",
    "%matplotlib inline\n",
    "import seaborn as sns"
   ]
  },
  {
   "cell_type": "markdown",
   "metadata": {},
   "source": [
    "### Data Exploration"
   ]
  },
  {
   "cell_type": "markdown",
   "metadata": {
    "collapsed": true
   },
   "source": [
    "Load the dataset and understand the variables present in it."
   ]
  },
  {
   "cell_type": "code",
   "execution_count": 3,
   "metadata": {
    "collapsed": false,
    "scrolled": false
   },
   "outputs": [
    {
     "data": {
      "text/html": [
       "<div>\n",
       "<table border=\"1\" class=\"dataframe\">\n",
       "  <thead>\n",
       "    <tr style=\"text-align: right;\">\n",
       "      <th></th>\n",
       "      <th>lead_article_url</th>\n",
       "      <th>scroll_article_id</th>\n",
       "      <th>scroll</th>\n",
       "      <th>test_branch</th>\n",
       "      <th>timestamp</th>\n",
       "    </tr>\n",
       "  </thead>\n",
       "  <tbody>\n",
       "    <tr>\n",
       "      <th>0</th>\n",
       "      <td>https://www.reuters.com/article/us-storm-harve...</td>\n",
       "      <td>USKCN1B80II</td>\n",
       "      <td>[USKCN1B7083,USKCN1B8177,USKCN1B80II,USKCN1B80...</td>\n",
       "      <td>C</td>\n",
       "      <td>2017-08-28 13:00:06.754</td>\n",
       "    </tr>\n",
       "    <tr>\n",
       "      <th>1</th>\n",
       "      <td>https://www.reuters.com/article/us-usa-trump-m...</td>\n",
       "      <td>USKCN1B8177</td>\n",
       "      <td>[USKCN1B806D,USKCN1B8177,USKCN1B7083,USKCN1B80...</td>\n",
       "      <td>C</td>\n",
       "      <td>2017-08-28 13:00:07.743</td>\n",
       "    </tr>\n",
       "    <tr>\n",
       "      <th>2</th>\n",
       "      <td>https://www.reuters.com/article/us-usa-navy-cr...</td>\n",
       "      <td>USKCN1B803W</td>\n",
       "      <td>[USKCN1B803W,USKCN1B80II,USKCN1B80CA,USKCN1B81...</td>\n",
       "      <td>A</td>\n",
       "      <td>2017-08-28 13:00:11.541</td>\n",
       "    </tr>\n",
       "    <tr>\n",
       "      <th>3</th>\n",
       "      <td>https://www.reuters.com/article/us-storm-harve...</td>\n",
       "      <td>USKCN1B80SL</td>\n",
       "      <td>[USKCN1B7083,USKCN1B812J,USKCN1B80SL,USKCN1B80...</td>\n",
       "      <td>A</td>\n",
       "      <td>2017-08-28 13:00:27.644</td>\n",
       "    </tr>\n",
       "    <tr>\n",
       "      <th>4</th>\n",
       "      <td>https://www.reuters.com/article/us-germany-ele...</td>\n",
       "      <td>USKCN1B70F2</td>\n",
       "      <td>[USKCN1B70F2,USKCN1B80TR,USKCN1B803W,USKCN1B80...</td>\n",
       "      <td>B</td>\n",
       "      <td>2017-08-28 13:00:28.155</td>\n",
       "    </tr>\n",
       "  </tbody>\n",
       "</table>\n",
       "</div>"
      ],
      "text/plain": [
       "                                    lead_article_url scroll_article_id  \\\n",
       "0  https://www.reuters.com/article/us-storm-harve...       USKCN1B80II   \n",
       "1  https://www.reuters.com/article/us-usa-trump-m...       USKCN1B8177   \n",
       "2  https://www.reuters.com/article/us-usa-navy-cr...       USKCN1B803W   \n",
       "3  https://www.reuters.com/article/us-storm-harve...       USKCN1B80SL   \n",
       "4  https://www.reuters.com/article/us-germany-ele...       USKCN1B70F2   \n",
       "\n",
       "                                              scroll test_branch  \\\n",
       "0  [USKCN1B7083,USKCN1B8177,USKCN1B80II,USKCN1B80...           C   \n",
       "1  [USKCN1B806D,USKCN1B8177,USKCN1B7083,USKCN1B80...           C   \n",
       "2  [USKCN1B803W,USKCN1B80II,USKCN1B80CA,USKCN1B81...           A   \n",
       "3  [USKCN1B7083,USKCN1B812J,USKCN1B80SL,USKCN1B80...           A   \n",
       "4  [USKCN1B70F2,USKCN1B80TR,USKCN1B803W,USKCN1B80...           B   \n",
       "\n",
       "                 timestamp  \n",
       "0  2017-08-28 13:00:06.754  \n",
       "1  2017-08-28 13:00:07.743  \n",
       "2  2017-08-28 13:00:11.541  \n",
       "3  2017-08-28 13:00:27.644  \n",
       "4  2017-08-28 13:00:28.155  "
      ]
     },
     "execution_count": 3,
     "metadata": {},
     "output_type": "execute_result"
    }
   ],
   "source": [
    "# Loading the dataset\n",
    "\n",
    "scroll_test=pd.read_csv('scroll_test_views.csv')\n",
    "scroll_test.head(5)"
   ]
  },
  {
   "cell_type": "code",
   "execution_count": 4,
   "metadata": {
    "collapsed": false
   },
   "outputs": [
    {
     "name": "stdout",
     "output_type": "stream",
     "text": [
      "<class 'pandas.core.frame.DataFrame'>\n",
      "RangeIndex: 204061 entries, 0 to 204060\n",
      "Data columns (total 5 columns):\n",
      "lead_article_url     204061 non-null object\n",
      "scroll_article_id    204061 non-null object\n",
      "scroll               204061 non-null object\n",
      "test_branch          204061 non-null object\n",
      "timestamp            204061 non-null object\n",
      "dtypes: object(5)\n",
      "memory usage: 7.8+ MB\n"
     ]
    }
   ],
   "source": [
    "# Check the information and the null values in the dataset\n",
    "\n",
    "scroll_test.info()"
   ]
  },
  {
   "cell_type": "markdown",
   "metadata": {
    "collapsed": true
   },
   "source": [
    "As there are three recommendation algorithms recommending the articles. Checking the number of times A, B , C algorithms have made recommendations"
   ]
  },
  {
   "cell_type": "code",
   "execution_count": 4,
   "metadata": {
    "collapsed": false,
    "scrolled": true
   },
   "outputs": [
    {
     "data": {
      "text/plain": [
       "C    85167\n",
       "A    61030\n",
       "B    57864\n",
       "Name: test_branch, dtype: int64"
      ]
     },
     "execution_count": 4,
     "metadata": {},
     "output_type": "execute_result"
    }
   ],
   "source": [
    "scroll_test['test_branch'].value_counts()\n"
   ]
  },
  {
   "cell_type": "code",
   "execution_count": 7,
   "metadata": {
    "collapsed": false
   },
   "outputs": [
    {
     "data": {
      "text/plain": [
       "[<matplotlib.text.Text at 0xd87cc50>]"
      ]
     },
     "execution_count": 7,
     "metadata": {},
     "output_type": "execute_result"
    },
    {
     "data": {
      "image/png": "[encoded data removed]",
      "text/plain": [
       "<matplotlib.figure.Figure at 0xd8db390>"
      ]
     },
     "metadata": {},
     "output_type": "display_data"
    }
   ],
   "source": [
    "sns.countplot(x='test_branch', data=scroll_test, color='b', alpha=0.5).set(title='No. of times each Recommendation Algorithms called')"
   ]
  },
  {
   "cell_type": "markdown",
   "metadata": {
    "collapsed": true
   },
   "source": [
    "As seen from the plot above the number of recommendations given by algorithms A,B,C are not equal. The data could be biased if we will consider it like this only.\n",
    "Hence we should take the weighted average at the end, which would give a weight to the scroll depth and the  number of recommendations by an algorithm"
   ]
  },
  {
   "cell_type": "markdown",
   "metadata": {},
   "source": [
    "### Data Cleaning"
   ]
  },
  {
   "cell_type": "markdown",
   "metadata": {},
   "source": [
    "It was observed that the ordered list in the scroll column is of string type and needs to be converted to a list type.\n",
    "Hence, created a new column 'scroll_new' which includes the list of articles in list format."
   ]
  },
  {
   "cell_type": "code",
   "execution_count": 8,
   "metadata": {
    "collapsed": false
   },
   "outputs": [],
   "source": [
    "scroll_test['scroll_new']=scroll_test['scroll'].apply(lambda x:x.strip('['))\n",
    "scroll_test['scroll_new']=scroll_test['scroll_new'].apply(lambda x:x.strip(']'))\n",
    "scroll_test['scroll_new']=scroll_test['scroll_new'].apply(lambda x:x.split(\",\"))"
   ]
  },
  {
   "cell_type": "code",
   "execution_count": 9,
   "metadata": {
    "collapsed": false
   },
   "outputs": [
    {
     "data": {
      "text/html": [
       "<div>\n",
       "<table border=\"1\" class=\"dataframe\">\n",
       "  <thead>\n",
       "    <tr style=\"text-align: right;\">\n",
       "      <th></th>\n",
       "      <th>lead_article_url</th>\n",
       "      <th>scroll_article_id</th>\n",
       "      <th>scroll</th>\n",
       "      <th>test_branch</th>\n",
       "      <th>timestamp</th>\n",
       "      <th>scroll_new</th>\n",
       "    </tr>\n",
       "  </thead>\n",
       "  <tbody>\n",
       "    <tr>\n",
       "      <th>0</th>\n",
       "      <td>https://www.reuters.com/article/us-storm-harve...</td>\n",
       "      <td>USKCN1B80II</td>\n",
       "      <td>[USKCN1B7083,USKCN1B8177,USKCN1B80II,USKCN1B80...</td>\n",
       "      <td>C</td>\n",
       "      <td>2017-08-28 13:00:06.754</td>\n",
       "      <td>[USKCN1B7083, USKCN1B8177, USKCN1B80II, USKCN1...</td>\n",
       "    </tr>\n",
       "    <tr>\n",
       "      <th>1</th>\n",
       "      <td>https://www.reuters.com/article/us-usa-trump-m...</td>\n",
       "      <td>USKCN1B8177</td>\n",
       "      <td>[USKCN1B806D,USKCN1B8177,USKCN1B7083,USKCN1B80...</td>\n",
       "      <td>C</td>\n",
       "      <td>2017-08-28 13:00:07.743</td>\n",
       "      <td>[USKCN1B806D, USKCN1B8177, USKCN1B7083, USKCN1...</td>\n",
       "    </tr>\n",
       "  </tbody>\n",
       "</table>\n",
       "</div>"
      ],
      "text/plain": [
       "                                    lead_article_url scroll_article_id  \\\n",
       "0  https://www.reuters.com/article/us-storm-harve...       USKCN1B80II   \n",
       "1  https://www.reuters.com/article/us-usa-trump-m...       USKCN1B8177   \n",
       "\n",
       "                                              scroll test_branch  \\\n",
       "0  [USKCN1B7083,USKCN1B8177,USKCN1B80II,USKCN1B80...           C   \n",
       "1  [USKCN1B806D,USKCN1B8177,USKCN1B7083,USKCN1B80...           C   \n",
       "\n",
       "                 timestamp                                         scroll_new  \n",
       "0  2017-08-28 13:00:06.754  [USKCN1B7083, USKCN1B8177, USKCN1B80II, USKCN1...  \n",
       "1  2017-08-28 13:00:07.743  [USKCN1B806D, USKCN1B8177, USKCN1B7083, USKCN1...  "
      ]
     },
     "execution_count": 9,
     "metadata": {},
     "output_type": "execute_result"
    }
   ],
   "source": [
    "scroll_test.head(2)"
   ]
  },
  {
   "cell_type": "markdown",
   "metadata": {},
   "source": [
    "### Feature Engineering"
   ]
  },
  {
   "cell_type": "markdown",
   "metadata": {},
   "source": [
    "Inorder to get the scroll depth of each recommendation algorithm, created a new column 'scroll_depth' based on the position of the scroll_article_id in the scroll list. The general assumption is that after reading the lead article, the user next clicks on the article given in scroll_article_id.\n",
    "Thus, 'scroll_depth' gives the position of the scroll_article_id in scroll list."
   ]
  },
  {
   "cell_type": "code",
   "execution_count": 10,
   "metadata": {
    "collapsed": true
   },
   "outputs": [],
   "source": [
    "# Get the index of the scroll-article_id in scroll list.\n",
    "\n",
    "def trial(row):\n",
    "    li=row['scroll_new']\n",
    "    el=row['scroll_article_id']\n",
    "    position=-1\n",
    "    try:\n",
    "        position=li.index(el)\n",
    "        \n",
    "    except ValueError:\n",
    "        position=-1\n",
    "    return position"
   ]
  },
  {
   "cell_type": "code",
   "execution_count": 11,
   "metadata": {
    "collapsed": false,
    "scrolled": false
   },
   "outputs": [
    {
     "data": {
      "text/html": [
       "<div>\n",
       "<table border=\"1\" class=\"dataframe\">\n",
       "  <thead>\n",
       "    <tr style=\"text-align: right;\">\n",
       "      <th></th>\n",
       "      <th>lead_article_url</th>\n",
       "      <th>scroll_article_id</th>\n",
       "      <th>scroll</th>\n",
       "      <th>test_branch</th>\n",
       "      <th>timestamp</th>\n",
       "      <th>scroll_new</th>\n",
       "      <th>scroll_depth</th>\n",
       "    </tr>\n",
       "  </thead>\n",
       "  <tbody>\n",
       "    <tr>\n",
       "      <th>0</th>\n",
       "      <td>https://www.reuters.com/article/us-storm-harve...</td>\n",
       "      <td>USKCN1B80II</td>\n",
       "      <td>[USKCN1B7083,USKCN1B8177,USKCN1B80II,USKCN1B80...</td>\n",
       "      <td>C</td>\n",
       "      <td>2017-08-28 13:00:06.754</td>\n",
       "      <td>[USKCN1B7083, USKCN1B8177, USKCN1B80II, USKCN1...</td>\n",
       "      <td>2</td>\n",
       "    </tr>\n",
       "    <tr>\n",
       "      <th>1</th>\n",
       "      <td>https://www.reuters.com/article/us-usa-trump-m...</td>\n",
       "      <td>USKCN1B8177</td>\n",
       "      <td>[USKCN1B806D,USKCN1B8177,USKCN1B7083,USKCN1B80...</td>\n",
       "      <td>C</td>\n",
       "      <td>2017-08-28 13:00:07.743</td>\n",
       "      <td>[USKCN1B806D, USKCN1B8177, USKCN1B7083, USKCN1...</td>\n",
       "      <td>1</td>\n",
       "    </tr>\n",
       "  </tbody>\n",
       "</table>\n",
       "</div>"
      ],
      "text/plain": [
       "                                    lead_article_url scroll_article_id  \\\n",
       "0  https://www.reuters.com/article/us-storm-harve...       USKCN1B80II   \n",
       "1  https://www.reuters.com/article/us-usa-trump-m...       USKCN1B8177   \n",
       "\n",
       "                                              scroll test_branch  \\\n",
       "0  [USKCN1B7083,USKCN1B8177,USKCN1B80II,USKCN1B80...           C   \n",
       "1  [USKCN1B806D,USKCN1B8177,USKCN1B7083,USKCN1B80...           C   \n",
       "\n",
       "                 timestamp                                         scroll_new  \\\n",
       "0  2017-08-28 13:00:06.754  [USKCN1B7083, USKCN1B8177, USKCN1B80II, USKCN1...   \n",
       "1  2017-08-28 13:00:07.743  [USKCN1B806D, USKCN1B8177, USKCN1B7083, USKCN1...   \n",
       "\n",
       "   scroll_depth  \n",
       "0             2  \n",
       "1             1  "
      ]
     },
     "execution_count": 11,
     "metadata": {},
     "output_type": "execute_result"
    }
   ],
   "source": [
    "scroll_test['scroll_depth']=scroll_test[['scroll_new','scroll_article_id']].apply(trial, axis=1)\n",
    "scroll_test.head(2)"
   ]
  },
  {
   "cell_type": "code",
   "execution_count": 12,
   "metadata": {
    "collapsed": false
   },
   "outputs": [],
   "source": [
    "scroll_depth_counts = scroll_test.groupby(['test_branch','scroll_depth'])['scroll_depth'].count().reset_index(name=\"depth_count\")\n",
    "scroll_depth_counts_df=pd.DataFrame(scroll_depth_counts)\n",
    "scroll_depth_counts_df['sd_dc']=scroll_depth_counts['scroll_depth']*scroll_depth_counts['depth_count']"
   ]
  },
  {
   "cell_type": "markdown",
   "metadata": {},
   "source": [
    "### Weighted Average of recommendations\n",
    "Taking the weighted average of the scroll depths of the three recommendation algorithms."
   ]
  },
  {
   "cell_type": "code",
   "execution_count": 13,
   "metadata": {
    "collapsed": false
   },
   "outputs": [
    {
     "data": {
      "text/plain": [
       "[<matplotlib.text.Text at 0x11196358>]"
      ]
     },
     "execution_count": 13,
     "metadata": {},
     "output_type": "execute_result"
    },
    {
     "data": {
      "image/png": "[encoded data removed]",
      "text/plain": [
       "<matplotlib.figure.Figure at 0x111a5198>"
      ]
     },
     "metadata": {},
     "output_type": "display_data"
    }
   ],
   "source": [
    "scroll_depth_avg=scroll_depth_counts_df.groupby('test_branch')['sd_dc'].sum()/scroll_depth_counts_df.groupby('test_branch')['depth_count'].sum()\n",
    "scroll_depth_avg_df=pd.DataFrame(scroll_depth_avg).reset_index()\n",
    "scroll_depth_avg_df.rename(columns={0:'weighted_avg_of_scrollDepth'}, inplace=True)\n",
    "sns.barplot(x='test_branch', y='weighted_avg_of_scrollDepth', data=scroll_depth_avg_df, color='b', alpha=0.5).set(title='Weighted Scroll Depth')"
   ]
  },
  {
   "cell_type": "markdown",
   "metadata": {},
   "source": [
    "### Observation"
   ]
  },
  {
   "cell_type": "markdown",
   "metadata": {},
   "source": [
    "Though algorithm C has recommended the articles most number of times in the provided dataset but users doesn't often click on the first article recommended by it. Hence, the weighted average scroll depth of algorithm C is less than that of A and B.\n",
    "In this case, algorithm A perfoms better on an average than the other two recommendation algorithms."
   ]
  }
 ],
 "metadata": {
  "kernelspec": {
   "display_name": "Python 2",
   "language": "python",
   "name": "python2"
  },
  "language_info": {
   "codemirror_mode": {
    "name": "ipython",
    "version": 2
   },
   "file_extension": ".py",
   "mimetype": "text/x-python",
   "name": "python",
   "nbconvert_exporter": "python",
   "pygments_lexer": "ipython2",
   "version": "2.7.13"
  }
 },
 "nbformat": 4,
 "nbformat_minor": 2
}
